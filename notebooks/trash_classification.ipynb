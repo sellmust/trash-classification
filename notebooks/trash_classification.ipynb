{
 "cells": [
  {
   "cell_type": "code",
   "execution_count": null,
   "metadata": {
    "vscode": {
     "languageId": "plaintext"
    }
   },
   "outputs": [],
   "source": [
    "import os\n",
    "import numpy as np\n",
    "import matplotlib.pyplot as plt\n",
    "import seaborn as sns\n",
    "from datasets import load_dataset\n",
    "from tensorflow.keras import layers, models\n",
    "from tensorflow.keras.utils import to_categorical\n",
    "from sklearn.model_selection import train_test_split\n",
    "from sklearn.metrics import confusion_matrix, ConfusionMatrixDisplay\n",
    "from wandb.integration.keras import WandbCallback\n",
    "from tensorflow.keras.callbacks import ModelCheckpoint\n",
    "import wandb\n",
    "from huggingface_hub import HfApi"
   ]
  },
  {
   "cell_type": "markdown",
   "metadata": {},
   "source": [
    "1. Data Preparation\n",
    "Load and preprocess the TrashNet dataset."
   ]
  },
  {
   "cell_type": "code",
   "execution_count": null,
   "metadata": {
    "vscode": {
     "languageId": "plaintext"
    }
   },
   "outputs": [],
   "source": [
    "def load_and_preprocess_data(target_size=(224, 224)):\n",
    "    \"\"\"\n",
    "    Load the TrashNet dataset and preprocess images and labels.\n",
    "    \"\"\"\n",
    "    dataset = load_dataset(\"garythung/trashnet\")\n",
    "    data_train = dataset['train']\n",
    "\n",
    "    images, labels = [], []\n",
    "\n",
    "    for example in data_train:\n",
    "        img = example['image'].resize(target_size)\n",
    "        img = np.array(img) / 255.0\n",
    "        images.append(img)\n",
    "        labels.append(example['label'])\n",
    "\n",
    "    X = np.array(images)\n",
    "    y = np.array(labels)\n",
    "    num_classes = len(set(y))\n",
    "    y = to_categorical(y, num_classes)\n",
    "\n",
    "    X_train, X_test, y_train, y_test = train_test_split(X, y, test_size=0.2, random_state=42)\n",
    "    return X_train, X_test, y_train, y_test, num_classes"
   ]
  },
  {
   "cell_type": "markdown",
   "metadata": {},
   "source": [
    "2. Model Training\n",
    "Bild and train a CNN model."
   ]
  },
  {
   "cell_type": "code",
   "execution_count": null,
   "metadata": {
    "vscode": {
     "languageId": "plaintext"
    }
   },
   "outputs": [],
   "source": [
    "def build_cnn_model(input_shape, num_classes):\n",
    "    \"\"\"\n",
    "    Build a basic CNN model.\n",
    "    \"\"\"\n",
    "    model = models.Sequential([\n",
    "        layers.Conv2D(32, (3, 3), activation='relu', input_shape=input_shape),\n",
    "        layers.MaxPooling2D((2, 2)),\n",
    "        layers.Conv2D(64, (3, 3), activation='relu'),\n",
    "        layers.MaxPooling2D((2, 2)),\n",
    "        layers.Conv2D(128, (3, 3), activation='relu'),\n",
    "        layers.Flatten(),\n",
    "        layers.Dense(128, activation='relu'),\n",
    "        layers.Dense(num_classes, activation='softmax')\n",
    "    ])\n",
    "    return model\n",
    "\n",
    "def train_model(X_train, y_train, X_test, y_test, num_classes, project_name, entity_name):\n",
    "    \"\"\"\n",
    "    Train a CNN model and log to WandB.\n",
    "    \"\"\"\n",
    "    wandb.init(project=project_name, entity=entity_name, name=\"cnn_baseline\")\n",
    "\n",
    "    cnn_model = build_cnn_model(X_train.shape[1:], num_classes)\n",
    "    cnn_model.compile(optimizer='adam', loss='categorical_crossentropy', metrics=['accuracy'])\n",
    "\n",
    "    history = cnn_model.fit(\n",
    "        X_train, y_train,\n",
    "        epochs=10,\n",
    "        batch_size=32,\n",
    "        validation_data=(X_test, y_test),\n",
    "        callbacks=[\n",
    "            WandbCallback(log_graph=False),\n",
    "            ModelCheckpoint(filepath=\"trashnet_model.keras\", save_best_only=True)\n",
    "        ]\n",
    "    )\n",
    "\n",
    "    model_path = \"trashnet_model\"\n",
    "    cnn_model.save(model_path)\n",
    "    return cnn_model, history, model_path\n"
   ]
  },
  {
   "cell_type": "markdown",
   "metadata": {},
   "source": [
    "3. Evaluation\n",
    "Evaluate the model and visualize results."
   ]
  },
  {
   "cell_type": "code",
   "execution_count": null,
   "metadata": {
    "vscode": {
     "languageId": "plaintext"
    }
   },
   "outputs": [],
   "source": [
    "def plot_training(history):\n",
    "    \"\"\"\n",
    "    Plot accuracy and loss during training.\n",
    "    \"\"\"\n",
    "    plt.figure(figsize=(12, 4))\n",
    "\n",
    "    plt.subplot(1, 2, 1)\n",
    "    plt.plot(history.history['accuracy'], label='Training Accuracy')\n",
    "    plt.plot(history.history['val_accuracy'], label='Validation Accuracy')\n",
    "    plt.title(\"Accuracy\")\n",
    "    plt.legend()\n",
    "\n",
    "    plt.subplot(1, 2, 2)\n",
    "    plt.plot(history.history['loss'], label='Training Loss')\n",
    "    plt.plot(history.history['val_loss'], label='Validation Loss')\n",
    "    plt.title(\"Loss\")\n",
    "    plt.legend()\n",
    "    plt.show()\n",
    "\n",
    "def evaluate_model(cnn_model, X_test, y_test):\n",
    "    \"\"\"\n",
    "    Evaluate model performance and show confusion matrix.\n",
    "    \"\"\"\n",
    "    loss, acc = cnn_model.evaluate(X_test, y_test)\n",
    "    print(f\"Test Accuracy: {acc*100:.2f}%\")\n",
    "\n",
    "    y_pred = np.argmax(cnn_model.predict(X_test), axis=1)\n",
    "    y_true = np.argmax(y_test, axis=1)\n",
    "\n",
    "    cm = confusion_matrix(y_true, y_pred)\n",
    "    disp = ConfusionMatrixDisplay(confusion_matrix=cm, display_labels=range(y_test.shape[1]))\n",
    "    disp.plot(cmap='viridis')\n",
    "    plt.title(\"Confusion Matrix\")\n",
    "    plt.show()"
   ]
  },
  {
   "cell_type": "markdown",
   "metadata": {},
   "source": [
    "4. Utilities\n",
    "Helper functions for visualization."
   ]
  },
  {
   "cell_type": "code",
   "execution_count": null,
   "metadata": {
    "vscode": {
     "languageId": "plaintext"
    }
   },
   "outputs": [],
   "source": [
    "def show_sample_images(X, y, num_classes=6):\n",
    "    \"\"\"\n",
    "    Display sample images for each class.\n",
    "    \"\"\"\n",
    "    fig, axes = plt.subplots(1, num_classes, figsize=(15, 5))\n",
    "    for i in range(num_classes):\n",
    "        idx = np.where(y.argmax(axis=1) == i)[0][0]\n",
    "        axes[i].imshow(X[idx])\n",
    "        axes[i].axis('off')\n",
    "        axes[i].set_title(f\"Class {i}\")\n",
    "    plt.show()\n",
    "\n",
    "def plot_class_distribution(y_train):\n",
    "    \"\"\"\n",
    "    Plot class distribution.\n",
    "    \"\"\"\n",
    "    sns.countplot(x=y_train.argmax(axis=1), palette=\"Set2\")\n",
    "    plt.title(\"Class Distribution in Training Data\")\n",
    "    plt.show()"
   ]
  },
  {
   "cell_type": "markdown",
   "metadata": {},
   "source": [
    "5. Run the Pipeline"
   ]
  },
  {
   "cell_type": "code",
   "execution_count": null,
   "metadata": {
    "vscode": {
     "languageId": "plaintext"
    }
   },
   "outputs": [],
   "source": [
    "if __name__ == \"__main__\":\n",
    "    # Data preparation\n",
    "    X_train, X_test, y_train, y_test, num_classes = load_and_preprocess_data()\n",
    "    show_sample_images(X_train, y_train, num_classes)\n",
    "    plot_class_distribution(y_train)\n",
    "\n",
    "    # Model training\n",
    "    project_name = \"trashnet-classification\"\n",
    "    entity_name = \"your_entity_name\"\n",
    "\n",
    "    model, history, model_path = train_model(X_train, y_train, X_test, y_test, num_classes, project_name, entity_name)\n",
    "    \n",
    "    # Evaluation\n",
    "    plot_training(history)\n",
    "    evaluate_model(model, X_test, y_test)"
   ]
  }
 ],
 "metadata": {
  "language_info": {
   "name": "python"
  }
 },
 "nbformat": 4,
 "nbformat_minor": 2
}
